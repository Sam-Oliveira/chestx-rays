{
 "cells": [
  {
   "cell_type": "markdown",
   "id": "38c43d14",
   "metadata": {},
   "source": [
    "# Convolutional Auto-Encoder"
   ]
  },
  {
   "cell_type": "markdown",
   "id": "f7b76d3e",
   "metadata": {},
   "source": [
    "### Sources\n",
    "\n",
    "Testing/Validation: https://github.com/udacity/deep-learning-v2-pytorch/blob/master/convolutional-neural-networks/cifar-cnn/cifar10_cnn_solution.ipynb\n",
    "\n",
    "Theory: https://cs231n.github.io/convolutional-networks/#conv\n",
    "\n",
    "Theory/AE Class: https://github.com/udacity/deep-learning-v2-pytorch/blob/master/autoencoder/convolutional-autoencoder/Convolutional_Autoencoder_Solution.ipynb\n",
    "\n",
    "Theory/AE Class: https://github.com/udacity/deep-learning-v2-pytorch/blob/master/convolutional-neural-networks/cifar-cnn/cifar10_cnn_solution.ipynb"
   ]
  },
  {
   "cell_type": "markdown",
   "id": "f123c3c0",
   "metadata": {},
   "source": [
    "### Imports"
   ]
  },
  {
   "cell_type": "code",
   "execution_count": 1,
   "id": "b5a7efa9",
   "metadata": {},
   "outputs": [],
   "source": [
    "import numpy as np\n",
    "import pandas as pd\n",
    "import datetime\n",
    "import os\n",
    "from collections import OrderedDict\n",
    "from pathlib import Path\n",
    "import uuid\n",
    "#import pydicom\n",
    "from PIL import Image\n",
    "import cv2\n",
    "import matplotlib.pyplot as plt\n",
    "\n",
    "# Import essential libraries\n",
    "from sklearn.metrics import accuracy_score, classification_report, confusion_matrix\n",
    "from sklearn.model_selection import train_test_split\n",
    "#from PIL import Image\n",
    "import torchvision\n",
    "import matplotlib.pyplot as plt\n",
    "import numpy as np\n",
    "import torch\n",
    "import os\n",
    "import time\n",
    "import random\n",
    "%matplotlib inline\n",
    "import torch.nn as nn\n",
    "import torch.optim as optim\n",
    "import gzip"
   ]
  },
  {
   "cell_type": "markdown",
   "id": "4d5a6402",
   "metadata": {},
   "source": [
    "### Data Preparation"
   ]
  },
  {
   "cell_type": "code",
   "execution_count": 2,
   "id": "29921ed5",
   "metadata": {},
   "outputs": [
    {
     "data": {
      "text/html": [
       "<div>\n",
       "<style scoped>\n",
       "    .dataframe tbody tr th:only-of-type {\n",
       "        vertical-align: middle;\n",
       "    }\n",
       "\n",
       "    .dataframe tbody tr th {\n",
       "        vertical-align: top;\n",
       "    }\n",
       "\n",
       "    .dataframe thead th {\n",
       "        text-align: right;\n",
       "    }\n",
       "</style>\n",
       "<table border=\"1\" class=\"dataframe\">\n",
       "  <thead>\n",
       "    <tr style=\"text-align: right;\">\n",
       "      <th></th>\n",
       "      <th>subject_id</th>\n",
       "      <th>study_id</th>\n",
       "      <th>dicom_id</th>\n",
       "      <th>path</th>\n",
       "    </tr>\n",
       "  </thead>\n",
       "  <tbody>\n",
       "    <tr>\n",
       "      <th>0</th>\n",
       "      <td>10000032</td>\n",
       "      <td>50414267</td>\n",
       "      <td>02aa804e-bde0afdd-112c0b34-7bc16630-4e384014</td>\n",
       "      <td>files/p10/p10000032/s50414267/02aa804e-bde0afd...</td>\n",
       "    </tr>\n",
       "    <tr>\n",
       "      <th>1</th>\n",
       "      <td>10000032</td>\n",
       "      <td>50414267</td>\n",
       "      <td>174413ec-4ec4c1f7-34ea26b7-c5f994f8-79ef1962</td>\n",
       "      <td>files/p10/p10000032/s50414267/174413ec-4ec4c1f...</td>\n",
       "    </tr>\n",
       "    <tr>\n",
       "      <th>2</th>\n",
       "      <td>10000032</td>\n",
       "      <td>53189527</td>\n",
       "      <td>2a2277a9-b0ded155-c0de8eb9-c124d10e-82c5caab</td>\n",
       "      <td>files/p10/p10000032/s53189527/2a2277a9-b0ded15...</td>\n",
       "    </tr>\n",
       "    <tr>\n",
       "      <th>3</th>\n",
       "      <td>10000032</td>\n",
       "      <td>53189527</td>\n",
       "      <td>e084de3b-be89b11e-20fe3f9f-9c8d8dfe-4cfd202c</td>\n",
       "      <td>files/p10/p10000032/s53189527/e084de3b-be89b11...</td>\n",
       "    </tr>\n",
       "    <tr>\n",
       "      <th>4</th>\n",
       "      <td>10000032</td>\n",
       "      <td>53911762</td>\n",
       "      <td>68b5c4b1-227d0485-9cc38c3f-7b84ab51-4b472714</td>\n",
       "      <td>files/p10/p10000032/s53911762/68b5c4b1-227d048...</td>\n",
       "    </tr>\n",
       "  </tbody>\n",
       "</table>\n",
       "</div>"
      ],
      "text/plain": [
       "   subject_id  study_id                                      dicom_id  \\\n",
       "0    10000032  50414267  02aa804e-bde0afdd-112c0b34-7bc16630-4e384014   \n",
       "1    10000032  50414267  174413ec-4ec4c1f7-34ea26b7-c5f994f8-79ef1962   \n",
       "2    10000032  53189527  2a2277a9-b0ded155-c0de8eb9-c124d10e-82c5caab   \n",
       "3    10000032  53189527  e084de3b-be89b11e-20fe3f9f-9c8d8dfe-4cfd202c   \n",
       "4    10000032  53911762  68b5c4b1-227d0485-9cc38c3f-7b84ab51-4b472714   \n",
       "\n",
       "                                                path  \n",
       "0  files/p10/p10000032/s50414267/02aa804e-bde0afd...  \n",
       "1  files/p10/p10000032/s50414267/174413ec-4ec4c1f...  \n",
       "2  files/p10/p10000032/s53189527/2a2277a9-b0ded15...  \n",
       "3  files/p10/p10000032/s53189527/e084de3b-be89b11...  \n",
       "4  files/p10/p10000032/s53911762/68b5c4b1-227d048...  "
      ]
     },
     "execution_count": 2,
     "metadata": {},
     "output_type": "execute_result"
    }
   ],
   "source": [
    "cxr_root_path = \"/media/Data/ComputerVision/mimic_cxr_jpg_small_chest_radiograph/data/physionet.org/files/mimic-cxr-jpg/2.0.0/\"\n",
    "record_df = pd.read_csv('{}/cxr-record-list.csv.gz'.format(cxr_root_path), sep=',')\n",
    "record_df.head()"
   ]
  },
  {
   "cell_type": "code",
   "execution_count": 3,
   "id": "6ded91f5",
   "metadata": {},
   "outputs": [
    {
     "name": "stdout",
     "output_type": "stream",
     "text": [
      "377110\n"
     ]
    }
   ],
   "source": [
    "df_split = pd.read_csv('{}/mimic-cxr-2.0.0-split.csv.gz'.format(cxr_root_path))\n",
    "dataset = df_split.merge(record_df, on=['subject_id', 'study_id', 'dicom_id'], how='left')\n",
    "num_images=len(dataset)\n",
    "print(num_images)"
   ]
  },
  {
   "cell_type": "markdown",
   "id": "5cf60395",
   "metadata": {},
   "source": [
    "### Selecting Portion of Data"
   ]
  },
  {
   "cell_type": "code",
   "execution_count": 4,
   "id": "8bf41e4c",
   "metadata": {},
   "outputs": [],
   "source": [
    "dataset=dataset[0:100000]"
   ]
  },
  {
   "cell_type": "markdown",
   "id": "36d73671",
   "metadata": {},
   "source": [
    "### Selecting Device"
   ]
  },
  {
   "cell_type": "code",
   "execution_count": 5,
   "id": "ebbdc5bb",
   "metadata": {},
   "outputs": [
    {
     "name": "stdout",
     "output_type": "stream",
     "text": [
      "cuda\n"
     ]
    }
   ],
   "source": [
    "import torch.optim as optim\n",
    "#  use gpu if available\n",
    "device = torch.device(\"cuda\" if torch.cuda.is_available() else \"cpu\")\n",
    "print(device)"
   ]
  },
  {
   "cell_type": "code",
   "execution_count": 6,
   "id": "ee3961c0",
   "metadata": {},
   "outputs": [],
   "source": [
    "class CustomDatasetFromImages(torch.utils.data.Dataset):\n",
    "    def __init__(self, dataframe, transforms=None): \n",
    "        self.dataframe = dataframe\n",
    "        self.transforms = transforms\n",
    "    def __getitem__(self, index):\n",
    "        imagepath=self.dataframe[\"path\"].iloc[index]\n",
    "        imagepath=cxr_root_path+imagepath[:-4]+'.jpg'\n",
    "        image=Image.open(imagepath)\n",
    "        if self.transforms is not None:\n",
    "            image=self.transforms(image)\n",
    "        return image\n",
    "    def __len__(self):\n",
    "        return len(self.dataframe)"
   ]
  },
  {
   "cell_type": "code",
   "execution_count": 7,
   "id": "5534c214",
   "metadata": {},
   "outputs": [],
   "source": [
    "train_Aug = torchvision.transforms.Compose([torchvision.transforms.Resize((224, 224)),\n",
    "                                            #torchvision.transforms.RandomRotation((-20, 20)),\n",
    "                                            torchvision.transforms.ToTensor()])\n",
    "test_Aug = torchvision.transforms.Compose([torchvision.transforms.Resize((224, 224)),torchvision.transforms.ToTensor()])"
   ]
  },
  {
   "cell_type": "code",
   "execution_count": 8,
   "id": "aa9be8ca",
   "metadata": {},
   "outputs": [],
   "source": [
    "train_set=CustomDatasetFromImages(dataset.loc[dataset['split']=='train'], transforms=train_Aug)\n",
    "test_set=CustomDatasetFromImages(dataset.loc[dataset['split']=='validate'], transforms=test_Aug)\n",
    "trainloader= torch.utils.data.DataLoader(train_set, batch_size=64,shuffle=True) \n",
    "testloader= torch.utils.data.DataLoader(test_set, batch_size=64,shuffle=False)"
   ]
  },
  {
   "cell_type": "code",
   "execution_count": 9,
   "id": "df25c628",
   "metadata": {},
   "outputs": [],
   "source": [
    "import torch.nn as nn\n",
    "import torch.nn.functional as F\n",
    "\n",
    "# define the NN architecture\n",
    "class ConvAutoencoder(nn.Module):\n",
    "    def __init__(self):\n",
    "        super(ConvAutoencoder, self).__init__()\n",
    "        ## encoder layers ##\n",
    "        # conv layer (depth from 1 --> 16), 3x3 kernels\n",
    "        self.conv1 = nn.Conv2d(1, 16, 3, padding=1)  \n",
    "        # conv layer (depth from 16 --> 4), 3x3 kernels\n",
    "        self.conv2 = nn.Conv2d(16, 24, 3, padding=1)\n",
    "        # conv layer (depth from 16 --> 4), 3x3 kernels\n",
    "        self.conv3 = nn.Conv2d(24, 32, 3, padding=1)\n",
    "        # conv layer (depth from 16 --> 4), 3x3 kernels\n",
    "        self.conv4 = nn.Conv2d(32, 40, 3, padding=1)\n",
    "        # pooling layer to reduce x-y dims(each) by two; kernel and stride of 2\n",
    "        self.pool = nn.MaxPool2d(2, 2)\n",
    "        self.relu = nn.ReLU()\n",
    "        \n",
    "        #FULLY CONNECTED LAYERS\n",
    "        \n",
    "        self.lin1=nn.Linear(7840, 2560, bias=True)\n",
    "        self.lin2=nn.Linear(2560, 824, bias=True)\n",
    "        self.lin3=nn.Linear(824,256,bias=True)\n",
    "        self.i_lin1=nn.Linear(256, 824, bias=True)\n",
    "        self.i_lin2=nn.Linear(824, 2560, bias=True)\n",
    "        self.i_lin3=nn.Linear(2560,7840,bias=True)\n",
    "        \n",
    "        ## decoder layers ##\n",
    "        ## a kernel of 2 and a stride of 2 will increase the spatial dims by 2\n",
    "        self.t_conv1 = nn.ConvTranspose2d(40, 32, 2, stride=2)\n",
    "        self.t_conv2 = nn.ConvTranspose2d(32,24, 2, stride=2)\n",
    "        self.t_conv3 = nn.ConvTranspose2d(24, 16, 2, stride=2)\n",
    "        self.t_conv4 = nn.ConvTranspose2d(16, 1, 2, stride=2)\n",
    "\n",
    "\n",
    "    def forward(self, x):\n",
    "        ## encode ##\n",
    "        # add hidden layers with relu activation function\n",
    "        # and maxpooling after\n",
    "        \n",
    "        #CONVOLUTIONAL PART\n",
    "        x = self.relu(self.conv1(x))\n",
    "        x = self.pool(x)\n",
    "        # add second hidden layer\n",
    "        x = self.relu(self.conv2(x))\n",
    "        x = self.pool(x)  # compressed representation\n",
    "        x = self.relu(self.conv3(x))\n",
    "        x = self.pool(x)  # compressed representation\n",
    "        x = self.relu(self.conv4(x))\n",
    "        x = self.pool(x)  # compressed representation\n",
    "        # LINEAR PART\n",
    "        x=x.view(-1,7840)\n",
    "        x=self.relu(self.lin1(x))\n",
    "        x=self.relu(self.lin2(x))\n",
    "        x=self.relu(self.lin3(x))\n",
    "        \n",
    "        #Latent Space\n",
    "        z=x\n",
    "        \n",
    "    \n",
    "        ## decode ##\n",
    "        \n",
    "                \n",
    "        #LINEAR PART \n",
    "        x=self.relu(self.i_lin1(x))\n",
    "        x=self.relu(self.i_lin2(x))\n",
    "        x=self.relu(self.i_lin3(x))\n",
    "        #print(x.size())\n",
    "        #x=nn.Unflatten(x,(64,40,14, 14))\n",
    "        x=x.view(-1, 40,14,14)\n",
    "        #print(x.size())\n",
    "\n",
    "        \n",
    "        #CONVOLUTIONAL PART\n",
    "        # add transpose conv layers, with relu activation function\n",
    "        x = self.relu(self.t_conv1(x))\n",
    "        x = self.relu(self.t_conv2(x))\n",
    "        x = self.relu(self.t_conv3(x))\n",
    "        # output layer (with sigmoid for scaling from 0 to 1)\n",
    "        x = torch.sigmoid(self.t_conv4(x))\n",
    "                \n",
    "        return x,z"
   ]
  },
  {
   "cell_type": "code",
   "execution_count": 10,
   "id": "7819df1d",
   "metadata": {},
   "outputs": [],
   "source": [
    "\n",
    "learning_rate = 1e-3"
   ]
  },
  {
   "cell_type": "code",
   "execution_count": 11,
   "id": "cd03eba7",
   "metadata": {},
   "outputs": [],
   "source": [
    "\n",
    "# create a model from `AE` autoencoder class\n",
    "# load it to the specified device, either gpu or cpu\n",
    "model=ConvAutoencoder().to(device)\n",
    "\n",
    "# create an optimizer object\n",
    "# Adam optimizer with learning rate 1e-3\n",
    "optimizer = optim.Adam(model.parameters(), lr=learning_rate)\n",
    "\n",
    "# mean-squared error loss\n",
    "criterion = nn.MSELoss()"
   ]
  },
  {
   "cell_type": "markdown",
   "id": "36c5fbeb",
   "metadata": {},
   "source": [
    "### Training and Validation"
   ]
  },
  {
   "cell_type": "code",
   "execution_count": null,
   "id": "8f7c1c86",
   "metadata": {},
   "outputs": [],
   "source": [
    "# number of epochs to train the model\n",
    "n_epochs = 10\n",
    "\n",
    "valid_loss_min = np.Inf # track change in validation loss\n",
    "train_loss_list=[]\n",
    "valid_loss_list=[]\n",
    "for epoch in range(1, n_epochs+1):\n",
    "    number_of_batch=0\n",
    "    # keep track of training and validation loss\n",
    "    train_loss = 0.0\n",
    "    valid_loss = 0.0\n",
    "    \n",
    "    model.train()\n",
    "    for data in trainloader:\n",
    "        # move tensors to GPU if CUDA is available\n",
    "        # clear the gradients of all optimized variables\n",
    "        number_of_batch=number_of_batch+1\n",
    "        data=data.to(device)\n",
    "        optimizer.zero_grad()\n",
    "        # forward pass: compute predicted outputs by passing inputs to the model\n",
    "        output,z = model(data)\n",
    "        # calculate the batch loss\n",
    "        loss = criterion(output, data)\n",
    "        # backward pass: compute gradient of the loss with respect to model parameters\n",
    "        loss.backward()\n",
    "        # perform a single optimization step (parameter update)\n",
    "        optimizer.step()\n",
    "        # update training loss\n",
    "        train_loss += loss.item()*data.size(0)\n",
    "        if (number_of_batch%500==0):\n",
    "            sample_number=number_of_batch*64\n",
    "            print(\"Sample number \",sample_number)\n",
    "        \n",
    "        \n",
    "        \n",
    "    # validate the model #\n",
    "    model.eval()\n",
    "    for data in testloader:\n",
    "        # move tensors to GPU if CUDA is available\n",
    "        # forward pass: compute predicted outputs by passing inputs to the model\n",
    "        data=data.to(device)\n",
    "        output,z = model(data)\n",
    "        # calculate the batch loss\n",
    "        loss = criterion(output, data)\n",
    "        # update average validation loss \n",
    "        valid_loss += loss.item()*data.size(0)\n",
    "    \n",
    "    # calculate average losses\n",
    "    train_loss = train_loss/len(trainloader.sampler)\n",
    "    valid_loss = valid_loss/len(testloader.sampler)\n",
    "    train_loss_list.append(train_loss)\n",
    "    valid_loss_list.append(valid_loss)\n",
    "        \n",
    "    # print training/validation statistics \n",
    "    print('Epoch: {} \\tTraining Loss: {:.6f} \\tValidation Loss: {:.6f}'.format(\n",
    "        epoch, train_loss, valid_loss))\n",
    "    \n",
    "    # save model if validation loss has decreased\n",
    "    if valid_loss <= valid_loss_min:\n",
    "        print('Validation loss decreased ({:.6f} --> {:.6f}).  Saving model ...'.format(\n",
    "        valid_loss_min,\n",
    "        valid_loss))\n",
    "        torch.save(model.state_dict(), 'model_deeper_AE.pt')\n",
    "        torch.save(optimizer.state_dict(),'optimizer_deeper_AE.pt')\n",
    "        valid_loss_min = valid_loss\n"
   ]
  },
  {
   "cell_type": "markdown",
   "id": "24c27c55",
   "metadata": {},
   "source": [
    "### Plotting Loss Function across epochs"
   ]
  },
  {
   "cell_type": "code",
   "execution_count": null,
   "id": "783e095c",
   "metadata": {},
   "outputs": [],
   "source": [
    "\n",
    "plt.plot(range(n_epochs),train_loss_list,'bo')\n",
    "plt.plot(range(n_epochs),valid_loss_list,'ro')\n",
    "plt.legend(['Training Data','Validation Data'])\n",
    "plt.show()"
   ]
  },
  {
   "cell_type": "markdown",
   "id": "c881c2d3",
   "metadata": {},
   "source": [
    "### Plotting validation results"
   ]
  },
  {
   "cell_type": "code",
   "execution_count": null,
   "id": "484a8209",
   "metadata": {},
   "outputs": [],
   "source": [
    "model.load_state_dict(torch.load('model_conv_more_layers.pt'))"
   ]
  },
  {
   "cell_type": "code",
   "execution_count": null,
   "id": "f4667746",
   "metadata": {},
   "outputs": [],
   "source": [
    "optimizer.load_state_dict(torch.load('optimizer_conv_more_layers.pt'))"
   ]
  },
  {
   "cell_type": "code",
   "execution_count": null,
   "id": "51b90745",
   "metadata": {},
   "outputs": [],
   "source": [
    "with torch.no_grad():\n",
    "    # obtain one batch of test images\n",
    "    dataiter = iter(testloader)\n",
    "    images= dataiter.next()\n",
    "    images.numpy()\n",
    "\n",
    "    # move model inputs to cuda, if GPU available\n",
    "    images = images.cuda()\n",
    "\n",
    "    # get sample outputs\n",
    "    output,z= model(images)\n",
    "\n",
    "    # plot the images in the batch, along with predicted and true labels\n",
    "    fig = plt.figure(figsize=(10, 20))\n",
    "    for idx in range(5):\n",
    "        ax = fig.add_subplot(5,2, 1+2*idx)\n",
    "        im=np.reshape(images[idx].cpu(),(224,224))\n",
    "        ax.imshow(im,cmap='gray')\n",
    "        ax2 = fig.add_subplot(5,2, 2+2*idx)\n",
    "        im2=np.reshape(output[idx].cpu(),(224,224))\n",
    "        ax2.imshow(im2,cmap='gray')\n",
    "    fig.tight_layout()\n",
    "    "
   ]
  },
  {
   "cell_type": "code",
   "execution_count": null,
   "id": "7843d655",
   "metadata": {},
   "outputs": [],
   "source": [
    "fig2=plt.figure(figsize=(10,20))\n",
    "for idx in range(5):\n",
    "    ax3 = fig2.add_subplot(5,2, 1+2*idx)\n",
    "    im=np.reshape(images[idx].cpu(),(224,224))\n",
    "    ax3.imshow(im,cmap='gray')\n",
    "    ax4 = fig2.add_subplot(5,2, 2+2*idx)\n",
    "    im2=np.reshape(z[idx].cpu(),(16,16))\n",
    "    ax4.imshow(im2,cmap='gray')\n",
    "plt.show()"
   ]
  }
 ],
 "metadata": {
  "kernelspec": {
   "display_name": "Python 3",
   "language": "python",
   "name": "python3"
  },
  "language_info": {
   "codemirror_mode": {
    "name": "ipython",
    "version": 3
   },
   "file_extension": ".py",
   "mimetype": "text/x-python",
   "name": "python",
   "nbconvert_exporter": "python",
   "pygments_lexer": "ipython3",
   "version": "3.6.13"
  }
 },
 "nbformat": 4,
 "nbformat_minor": 5
}
